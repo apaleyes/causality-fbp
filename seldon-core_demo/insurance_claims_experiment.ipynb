{
 "cells": [
  {
   "cell_type": "code",
   "execution_count": 1,
   "metadata": {},
   "outputs": [],
   "source": [
    "import pandas as pd"
   ]
  },
  {
   "cell_type": "code",
   "execution_count": 2,
   "metadata": {},
   "outputs": [],
   "source": [
    "insurance_claims_data = pd.read_csv(\"insurance_claims.csv\")"
   ]
  },
  {
   "cell_type": "code",
   "execution_count": null,
   "metadata": {},
   "outputs": [],
   "source": [
    "!seldon model load -f ./models/insurance_claims/calculate_claim_value.yaml\n",
    "!seldon model load -f ./models/insurance_claims/classify_claim_value.yaml\n",
    "!seldon model load -f ./models/insurance_claims/classify_claim_complexity.yaml\n",
    "!seldon model load -f ./models/insurance_claims/calculate_complex_claim_payout.yaml\n",
    "!seldon model load -f ./models/insurance_claims/calculate_simple_claim_payout.yaml"
   ]
  },
  {
   "cell_type": "markdown",
   "metadata": {},
   "source": [
    "Dataset generation routines"
   ]
  },
  {
   "cell_type": "markdown",
   "metadata": {},
   "source": []
  }
 ],
 "metadata": {
  "kernelspec": {
   "display_name": "Python 3.8.10 ('.venv': venv)",
   "language": "python",
   "name": "python3"
  },
  "language_info": {
   "codemirror_mode": {
    "name": "ipython",
    "version": 3
   },
   "file_extension": ".py",
   "mimetype": "text/x-python",
   "name": "python",
   "nbconvert_exporter": "python",
   "pygments_lexer": "ipython3",
   "version": "3.8.10"
  },
  "orig_nbformat": 4,
  "vscode": {
   "interpreter": {
    "hash": "fd54ca3bc0befedf9c48d2d464e609cc4c658b04ea724dcf933dee375fb93475"
   }
  }
 },
 "nbformat": 4,
 "nbformat_minor": 2
}
