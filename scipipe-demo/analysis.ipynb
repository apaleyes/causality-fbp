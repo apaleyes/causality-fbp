{
 "cells": [
  {
   "cell_type": "code",
   "execution_count": 1,
   "metadata": {},
   "outputs": [],
   "source": [
    "import json\n",
    "import os\n",
    "import pandas as pd\n",
    "from scipy import stats"
   ]
  },
  {
   "cell_type": "code",
   "execution_count": 2,
   "metadata": {},
   "outputs": [],
   "source": [
    "nodes = [\"count1\", \"count2\", \"gccount1\", \"gccount2\", \"atcount1\", \"atcount2\", \"gcsum\", \"atsum\", \"gcratio\"]\n",
    "\n",
    "base_dir = \"/home/ubuntu/projects/causality-fbp/scipipe-demo/\"\n",
    "\n",
    "# concatenator breaks the audit log: https://github.com/scipipe/scipipe/issues/127\n",
    "# so we need to trace audit up to concatenator\n",
    "# as well as each audit files leading up to concatenator\n",
    "# annoying, but alas!\n",
    "audit_files = [\"gcratio.txt.audit.json\",\n",
    "               \"chry.fa.gccnt1.audit.json\", \"chry.fa.gccnt2.audit.json\",\n",
    "               \"chry.fa.atcnt1.audit.json\", \"chry.fa.atcnt2.audit.json\"]\n",
    "\n",
    "n_repeats = 20\n",
    "n_records = 30\n"
   ]
  },
  {
   "cell_type": "code",
   "execution_count": 3,
   "metadata": {},
   "outputs": [],
   "source": [
    "def normalize_df(df):\n",
    "    normalized_df=(df-df.min())/(df.max()-df.min())\n",
    "    # normalized_df=(df-df.mean())/df.std()\n",
    "    return normalized_df\n",
    "\n",
    "def load_dataset(mode, repeat_id):\n",
    "    if mode not in ['normal', 'break-count1', 'break-count2']:\n",
    "        raise ValueError(f'Wrong mode {mode} given')\n",
    "    \n",
    "    if repeat_id < 1 or repeat_id > n_repeats:\n",
    "        raise ValueError(f'Wrong repeat id {repeat_id} given')\n",
    "\n",
    "    experiment_dir = os.path.join(base_dir, 'experiment', mode, f'repeat_{repeat_id}')    \n",
    "    all_records = []\n",
    "\n",
    "    for i in range(1, n_records+1):\n",
    "        raw_data = {}\n",
    "        for final_audit_file in audit_files:\n",
    "            with open(os.path.join(experiment_dir, str(i), final_audit_file)) as f:\n",
    "                audit_data = json.load(f)\n",
    "            \n",
    "            audit_data_queue = [audit_data]\n",
    "            while audit_data_queue:\n",
    "                audit_data = audit_data_queue.pop(0)\n",
    "                if audit_data[\"ProcessName\"] in nodes:\n",
    "                    # we assume all our nodes output exactly one file\n",
    "                    # Big Assumption!\n",
    "                    data_file_name = next(iter(audit_data[\"OutFiles\"].values()))\n",
    "                    with open(os.path.join(experiment_dir, str(i), data_file_name)) as data_file:\n",
    "                        line = data_file.readline()\n",
    "\n",
    "                    # calc may output tilde for division\n",
    "                    # so we need to remove it, plus any whitespaces\n",
    "                    value = float(line.strip().strip('~'))\n",
    "                    raw_data[audit_data[\"ProcessName\"]] = value\n",
    "                \n",
    "                for upstream_data in audit_data[\"Upstream\"].values():\n",
    "                    if upstream_data:\n",
    "                        audit_data_queue.append(upstream_data)\n",
    "        \n",
    "        all_records.append(raw_data)\n",
    "\n",
    "    return pd.DataFrame(all_records)\n"
   ]
  },
  {
   "cell_type": "code",
   "execution_count": 4,
   "metadata": {},
   "outputs": [],
   "source": [
    "import networkx as nx, numpy as np, pandas as pd\n",
    "from dowhy import gcm"
   ]
  },
  {
   "cell_type": "code",
   "execution_count": 5,
   "metadata": {},
   "outputs": [],
   "source": [
    "causal_graph = nx.DiGraph([\n",
    "    ('count1', 'gccount1'),\n",
    "    ('count1', 'atcount1'),\n",
    "    ('count2', 'gccount2'),\n",
    "    ('count2', 'atcount2'),\n",
    "\n",
    "    ('gccount1', 'gcsum'),\n",
    "    ('atcount1', 'atsum'),\n",
    "    ('gccount2', 'gcsum'),\n",
    "    ('atcount2', 'atsum'),\n",
    "\n",
    "    ('gcsum', 'gcratio'),\n",
    "    ('atsum', 'gcratio'),\n",
    "])"
   ]
  },
  {
   "cell_type": "code",
   "execution_count": 6,
   "metadata": {},
   "outputs": [],
   "source": [
    "from scipy import stats\n",
    "\n",
    "def compute_attributions(break_mode):\n",
    "    attributions_per_experiment = []\n",
    "    for i in range(1, n_repeats+1):\n",
    "        normal_df = load_dataset('normal', i)\n",
    "        break_df = load_dataset(break_mode, i)\n",
    "\n",
    "        causal_model = gcm.ProbabilisticCausalModel(causal_graph)\n",
    "        causal_model.set_causal_mechanism('count1', gcm.EmpiricalDistribution())\n",
    "        causal_model.set_causal_mechanism('count2', gcm.EmpiricalDistribution())\n",
    "        causal_model.set_causal_mechanism('gccount1', gcm.AdditiveNoiseModel(gcm.ml.create_linear_regressor()))\n",
    "        causal_model.set_causal_mechanism('gccount2', gcm.AdditiveNoiseModel(gcm.ml.create_linear_regressor()))\n",
    "        causal_model.set_causal_mechanism('atcount1', gcm.AdditiveNoiseModel(gcm.ml.create_linear_regressor()))\n",
    "        causal_model.set_causal_mechanism('atcount2', gcm.AdditiveNoiseModel(gcm.ml.create_linear_regressor()))\n",
    "        causal_model.set_causal_mechanism('gcsum', gcm.AdditiveNoiseModel(gcm.ml.create_linear_regressor()))\n",
    "        causal_model.set_causal_mechanism('atsum', gcm.AdditiveNoiseModel(gcm.ml.create_linear_regressor()))\n",
    "        causal_model.set_causal_mechanism('gcratio', gcm.AdditiveNoiseModel(gcm.ml.create_linear_regressor()))\n",
    "\n",
    "        attributions = gcm.distribution_change(causal_model, normal_df, break_df, 'gcratio')\n",
    "        attributions_per_experiment.append(attributions)\n",
    "    \n",
    "    return pd.DataFrame(attributions_per_experiment)"
   ]
  },
  {
   "cell_type": "code",
   "execution_count": 7,
   "metadata": {},
   "outputs": [
    {
     "name": "stderr",
     "output_type": "stream",
     "text": [
      "/home/ubuntu/projects/causality-fbp/.venv/lib/python3.10/site-packages/dowhy/gcm/distribution_change.py:231: FutureWarning: The frame.append method is deprecated and will be removed from pandas in a future version. Use pandas.concat instead.\n",
      "  joint_data = old_data.append(new_data, ignore_index=True, sort=True)\n",
      "Estimating Shapley Values. Average change of Shapley values in run 4 (20 evaluated permutations): -16.106301796696737%: 100%|██████████| 1/1 [00:04<00:00,  4.17s/it]\n",
      "/home/ubuntu/projects/causality-fbp/.venv/lib/python3.10/site-packages/dowhy/gcm/distribution_change.py:231: FutureWarning: The frame.append method is deprecated and will be removed from pandas in a future version. Use pandas.concat instead.\n",
      "  joint_data = old_data.append(new_data, ignore_index=True, sort=True)\n",
      "Estimating Shapley Values. Average change of Shapley values in run 10 (50 evaluated permutations): -6.022467345840235%: 100%|██████████| 1/1 [00:01<00:00,  1.90s/it]\n",
      "/home/ubuntu/projects/causality-fbp/.venv/lib/python3.10/site-packages/dowhy/gcm/distribution_change.py:231: FutureWarning: The frame.append method is deprecated and will be removed from pandas in a future version. Use pandas.concat instead.\n",
      "  joint_data = old_data.append(new_data, ignore_index=True, sort=True)\n",
      "Estimating Shapley Values. Average change of Shapley values in run 3 (15 evaluated permutations): -23.37879856879635%: 100%|██████████| 1/1 [00:00<00:00,  1.24it/s]\n",
      "/home/ubuntu/projects/causality-fbp/.venv/lib/python3.10/site-packages/dowhy/gcm/distribution_change.py:231: FutureWarning: The frame.append method is deprecated and will be removed from pandas in a future version. Use pandas.concat instead.\n",
      "  joint_data = old_data.append(new_data, ignore_index=True, sort=True)\n",
      "Estimating Shapley Values. Average change of Shapley values in run 5 (25 evaluated permutations): -12.044535893432272%: 100%|██████████| 1/1 [00:01<00:00,  1.11s/it]\n",
      "/home/ubuntu/projects/causality-fbp/.venv/lib/python3.10/site-packages/dowhy/gcm/distribution_change.py:231: FutureWarning: The frame.append method is deprecated and will be removed from pandas in a future version. Use pandas.concat instead.\n",
      "  joint_data = old_data.append(new_data, ignore_index=True, sort=True)\n",
      "Estimating Shapley Values. Average change of Shapley values in run 13 (65 evaluated permutations): -4.455961876920105%: 100%|██████████| 1/1 [00:02<00:00,  2.27s/it]\n",
      "/home/ubuntu/projects/causality-fbp/.venv/lib/python3.10/site-packages/dowhy/gcm/distribution_change.py:231: FutureWarning: The frame.append method is deprecated and will be removed from pandas in a future version. Use pandas.concat instead.\n",
      "  joint_data = old_data.append(new_data, ignore_index=True, sort=True)\n",
      "Estimating Shapley Values. Average change of Shapley values in run 4 (20 evaluated permutations): -79.28854481866996%: 100%|██████████| 1/1 [00:01<00:00,  1.03s/it]\n",
      "/home/ubuntu/projects/causality-fbp/.venv/lib/python3.10/site-packages/dowhy/gcm/distribution_change.py:231: FutureWarning: The frame.append method is deprecated and will be removed from pandas in a future version. Use pandas.concat instead.\n",
      "  joint_data = old_data.append(new_data, ignore_index=True, sort=True)\n",
      "Estimating Shapley Values. Average change of Shapley values in run 6 (30 evaluated permutations): -7.712723579257521%: 100%|██████████| 1/1 [00:01<00:00,  1.05s/it]\n",
      "/home/ubuntu/projects/causality-fbp/.venv/lib/python3.10/site-packages/dowhy/gcm/distribution_change.py:231: FutureWarning: The frame.append method is deprecated and will be removed from pandas in a future version. Use pandas.concat instead.\n",
      "  joint_data = old_data.append(new_data, ignore_index=True, sort=True)\n",
      "Estimating Shapley Values. Average change of Shapley values in run 15 (75 evaluated permutations): -24.20478992206855%: 100%|██████████| 1/1 [00:01<00:00,  1.94s/it]\n",
      "/home/ubuntu/projects/causality-fbp/.venv/lib/python3.10/site-packages/dowhy/gcm/distribution_change.py:231: FutureWarning: The frame.append method is deprecated and will be removed from pandas in a future version. Use pandas.concat instead.\n",
      "  joint_data = old_data.append(new_data, ignore_index=True, sort=True)\n",
      "Estimating Shapley Values. Average change of Shapley values in run 4 (20 evaluated permutations): -98.53926028032873%: 100%|██████████| 1/1 [00:00<00:00,  1.38it/s]\n",
      "/home/ubuntu/projects/causality-fbp/.venv/lib/python3.10/site-packages/dowhy/gcm/distribution_change.py:231: FutureWarning: The frame.append method is deprecated and will be removed from pandas in a future version. Use pandas.concat instead.\n",
      "  joint_data = old_data.append(new_data, ignore_index=True, sort=True)\n",
      "Estimating Shapley Values. Average change of Shapley values in run 11 (55 evaluated permutations): -137.15052365486932%: 100%|██████████| 1/1 [00:01<00:00,  1.69s/it]\n",
      "/home/ubuntu/projects/causality-fbp/.venv/lib/python3.10/site-packages/dowhy/gcm/distribution_change.py:231: FutureWarning: The frame.append method is deprecated and will be removed from pandas in a future version. Use pandas.concat instead.\n",
      "  joint_data = old_data.append(new_data, ignore_index=True, sort=True)\n",
      "Estimating Shapley Values. Average change of Shapley values in run 13 (65 evaluated permutations): -2373.0738919396363%: 100%|██████████| 1/1 [00:02<00:00,  2.35s/it]\n",
      "/home/ubuntu/projects/causality-fbp/.venv/lib/python3.10/site-packages/dowhy/gcm/distribution_change.py:231: FutureWarning: The frame.append method is deprecated and will be removed from pandas in a future version. Use pandas.concat instead.\n",
      "  joint_data = old_data.append(new_data, ignore_index=True, sort=True)\n",
      "Estimating Shapley Values. Average change of Shapley values in run 14 (70 evaluated permutations): -2.9562679703338013%: 100%|██████████| 1/1 [00:02<00:00,  2.45s/it]\n",
      "/home/ubuntu/projects/causality-fbp/.venv/lib/python3.10/site-packages/dowhy/gcm/distribution_change.py:231: FutureWarning: The frame.append method is deprecated and will be removed from pandas in a future version. Use pandas.concat instead.\n",
      "  joint_data = old_data.append(new_data, ignore_index=True, sort=True)\n",
      "Estimating Shapley Values. Average change of Shapley values in run 5 (25 evaluated permutations): -1.7968067829188237%: 100%|██████████| 1/1 [00:00<00:00,  1.04it/s]\n",
      "/home/ubuntu/projects/causality-fbp/.venv/lib/python3.10/site-packages/dowhy/gcm/distribution_change.py:231: FutureWarning: The frame.append method is deprecated and will be removed from pandas in a future version. Use pandas.concat instead.\n",
      "  joint_data = old_data.append(new_data, ignore_index=True, sort=True)\n",
      "Estimating Shapley Values. Average change of Shapley values in run 4 (20 evaluated permutations): -70.44284306398733%: 100%|██████████| 1/1 [00:00<00:00,  1.28it/s]\n",
      "/home/ubuntu/projects/causality-fbp/.venv/lib/python3.10/site-packages/dowhy/gcm/distribution_change.py:231: FutureWarning: The frame.append method is deprecated and will be removed from pandas in a future version. Use pandas.concat instead.\n",
      "  joint_data = old_data.append(new_data, ignore_index=True, sort=True)\n",
      "Estimating Shapley Values. Average change of Shapley values in run 7 (35 evaluated permutations): -61.4582618145052%: 100%|██████████| 1/1 [00:01<00:00,  1.37s/it]\n",
      "/home/ubuntu/projects/causality-fbp/.venv/lib/python3.10/site-packages/dowhy/gcm/distribution_change.py:231: FutureWarning: The frame.append method is deprecated and will be removed from pandas in a future version. Use pandas.concat instead.\n",
      "  joint_data = old_data.append(new_data, ignore_index=True, sort=True)\n",
      "Estimating Shapley Values. Average change of Shapley values in run 10 (50 evaluated permutations): -9.360667265234577%: 100%|██████████| 1/1 [00:02<00:00,  2.05s/it]\n",
      "/home/ubuntu/projects/causality-fbp/.venv/lib/python3.10/site-packages/dowhy/gcm/distribution_change.py:231: FutureWarning: The frame.append method is deprecated and will be removed from pandas in a future version. Use pandas.concat instead.\n",
      "  joint_data = old_data.append(new_data, ignore_index=True, sort=True)\n",
      "Estimating Shapley Values. Average change of Shapley values in run 8 (40 evaluated permutations): -54.300037586238815%: 100%|██████████| 1/1 [00:01<00:00,  1.61s/it]\n",
      "/home/ubuntu/projects/causality-fbp/.venv/lib/python3.10/site-packages/dowhy/gcm/distribution_change.py:231: FutureWarning: The frame.append method is deprecated and will be removed from pandas in a future version. Use pandas.concat instead.\n",
      "  joint_data = old_data.append(new_data, ignore_index=True, sort=True)\n",
      "Estimating Shapley Values. Average change of Shapley values in run 15 (75 evaluated permutations): 0.934522894021571%: 100%|██████████| 1/1 [00:02<00:00,  2.13s/it]\n",
      "/home/ubuntu/projects/causality-fbp/.venv/lib/python3.10/site-packages/dowhy/gcm/distribution_change.py:231: FutureWarning: The frame.append method is deprecated and will be removed from pandas in a future version. Use pandas.concat instead.\n",
      "  joint_data = old_data.append(new_data, ignore_index=True, sort=True)\n",
      "Estimating Shapley Values. Average change of Shapley values in run 8 (40 evaluated permutations): -11.974972412177026%: 100%|██████████| 1/1 [00:01<00:00,  1.32s/it]\n",
      "/home/ubuntu/projects/causality-fbp/.venv/lib/python3.10/site-packages/dowhy/gcm/distribution_change.py:231: FutureWarning: The frame.append method is deprecated and will be removed from pandas in a future version. Use pandas.concat instead.\n",
      "  joint_data = old_data.append(new_data, ignore_index=True, sort=True)\n",
      "Estimating Shapley Values. Average change of Shapley values in run 9 (45 evaluated permutations): -24.710562372239398%: 100%|██████████| 1/1 [00:01<00:00,  1.47s/it]\n"
     ]
    }
   ],
   "source": [
    "break_count1_attr_df = compute_attributions('break-count1')"
   ]
  },
  {
   "cell_type": "code",
   "execution_count": 9,
   "metadata": {},
   "outputs": [
    {
     "name": "stdout",
     "output_type": "stream",
     "text": [
      "count2: p-value = 6.320432565598461e-09\n",
      "gccount1: p-value = 6.735446801009432e-09\n",
      "gccount2: p-value = 7.45747130622992e-09\n",
      "atcount1: p-value = 6.226185411695689e-09\n",
      "atcount2: p-value = 6.819003747966066e-09\n",
      "gcsum: p-value = 5.58748096238065e-09\n",
      "atsum: p-value = 6.472158369363332e-09\n",
      "gcratio: p-value = 5.283602132103391e-08\n"
     ]
    }
   ],
   "source": [
    "for column in nodes:\n",
    "    if column == \"count1\":\n",
    "        continue\n",
    "    \n",
    "    test_result = stats.ttest_ind(break_count1_attr_df[\"count1\"].to_list(),\n",
    "                                  break_count1_attr_df[column].to_list(),\n",
    "                                  equal_var=False)\n",
    "    \n",
    "    print(f\"{column}: p-value = {test_result.pvalue}\")\n",
    "\n"
   ]
  },
  {
   "cell_type": "code",
   "execution_count": 15,
   "metadata": {},
   "outputs": [
    {
     "data": {
      "image/png": "[encoded data removed]",
      "text/plain": [
       "<Figure size 640x480 with 1 Axes>"
      ]
     },
     "metadata": {},
     "output_type": "display_data"
    }
   ],
   "source": [
    "import math\n",
    "records_count = break_count1_attr_df.shape[0]\n",
    "records_means = break_count1_attr_df.mean(axis=0).to_list()\n",
    "std = break_count1_attr_df.std(axis=0).to_list()\n",
    "columns = break_count1_attr_df.columns.to_list()\n",
    "\n",
    "ci95_lower = []\n",
    "ci95_range = []\n",
    "for m, s in zip(records_means, std):\n",
    "    lower = m - 1.96*s/math.sqrt(records_count)\n",
    "    ci95_lower.append(lower)\n",
    "    ci95_range.append(m - lower)\n",
    "\n",
    "\n",
    "import matplotlib.pyplot as plt\n",
    "\n",
    "plt.barh(range(len(records_means)), records_means, xerr=ci95_range, alpha=0.4, align='center', error_kw={'capsize':2, 'elinewidth':1})\n",
    "plt.yticks(range(len(records_means)), columns)\n",
    "# plt.xscale('log')\n",
    "plt.xlabel('Attribution score')\n",
    "plt.ylabel('Node')\n",
    "plt.yticks(fontsize=9)\n",
    "# plt.xscale('symlog', base=10)\n",
    "# plt.xticks([0, 0.1])\n",
    "plt.axvline(0, color='black', alpha=0.7, linestyle='dotted')\n",
    "plt.title('SciPipe demo - \"count1\" input shift')\n",
    "\n",
    "plt.savefig(\"scipipe-count1.pdf\", bbox_inches='tight')\n",
    "plt.show()"
   ]
  },
  {
   "cell_type": "code",
   "execution_count": 11,
   "metadata": {},
   "outputs": [
    {
     "name": "stderr",
     "output_type": "stream",
     "text": [
      "/home/ubuntu/projects/causality-fbp/.venv/lib/python3.10/site-packages/dowhy/gcm/distribution_change.py:231: FutureWarning: The frame.append method is deprecated and will be removed from pandas in a future version. Use pandas.concat instead.\n",
      "  joint_data = old_data.append(new_data, ignore_index=True, sort=True)\n",
      "Estimating Shapley Values. Average change of Shapley values in run 7 (35 evaluated permutations): -128.63733650858197%: 100%|██████████| 1/1 [00:01<00:00,  1.53s/it]\n",
      "/home/ubuntu/projects/causality-fbp/.venv/lib/python3.10/site-packages/dowhy/gcm/distribution_change.py:231: FutureWarning: The frame.append method is deprecated and will be removed from pandas in a future version. Use pandas.concat instead.\n",
      "  joint_data = old_data.append(new_data, ignore_index=True, sort=True)\n",
      "Estimating Shapley Values. Average change of Shapley values in run 10 (50 evaluated permutations): 0.6371132297899946%: 100%|██████████| 1/1 [00:01<00:00,  1.97s/it]\n",
      "/home/ubuntu/projects/causality-fbp/.venv/lib/python3.10/site-packages/dowhy/gcm/distribution_change.py:231: FutureWarning: The frame.append method is deprecated and will be removed from pandas in a future version. Use pandas.concat instead.\n",
      "  joint_data = old_data.append(new_data, ignore_index=True, sort=True)\n",
      "Estimating Shapley Values. Average change of Shapley values in run 5 (25 evaluated permutations): -11.354774720588203%: 100%|██████████| 1/1 [00:01<00:00,  1.12s/it]\n",
      "/home/ubuntu/projects/causality-fbp/.venv/lib/python3.10/site-packages/dowhy/gcm/distribution_change.py:231: FutureWarning: The frame.append method is deprecated and will be removed from pandas in a future version. Use pandas.concat instead.\n",
      "  joint_data = old_data.append(new_data, ignore_index=True, sort=True)\n",
      "Estimating Shapley Values. Average change of Shapley values in run 12 (60 evaluated permutations): -21.465388874955448%: 100%|██████████| 1/1 [00:02<00:00,  2.06s/it]\n",
      "/home/ubuntu/projects/causality-fbp/.venv/lib/python3.10/site-packages/dowhy/gcm/distribution_change.py:231: FutureWarning: The frame.append method is deprecated and will be removed from pandas in a future version. Use pandas.concat instead.\n",
      "  joint_data = old_data.append(new_data, ignore_index=True, sort=True)\n",
      "Estimating Shapley Values. Average change of Shapley values in run 5 (25 evaluated permutations): -39.320329257616905%: 100%|██████████| 1/1 [00:01<00:00,  1.10s/it]\n",
      "/home/ubuntu/projects/causality-fbp/.venv/lib/python3.10/site-packages/dowhy/gcm/distribution_change.py:231: FutureWarning: The frame.append method is deprecated and will be removed from pandas in a future version. Use pandas.concat instead.\n",
      "  joint_data = old_data.append(new_data, ignore_index=True, sort=True)\n",
      "Estimating Shapley Values. Average change of Shapley values in run 7 (35 evaluated permutations): -31.48316304106336%: 100%|██████████| 1/1 [00:01<00:00,  1.42s/it]\n",
      "/home/ubuntu/projects/causality-fbp/.venv/lib/python3.10/site-packages/dowhy/gcm/distribution_change.py:231: FutureWarning: The frame.append method is deprecated and will be removed from pandas in a future version. Use pandas.concat instead.\n",
      "  joint_data = old_data.append(new_data, ignore_index=True, sort=True)\n",
      "Estimating Shapley Values. Average change of Shapley values in run 16 (80 evaluated permutations): -18.32121013479762%: 100%|██████████| 1/1 [00:01<00:00,  1.99s/it]\n",
      "/home/ubuntu/projects/causality-fbp/.venv/lib/python3.10/site-packages/dowhy/gcm/distribution_change.py:231: FutureWarning: The frame.append method is deprecated and will be removed from pandas in a future version. Use pandas.concat instead.\n",
      "  joint_data = old_data.append(new_data, ignore_index=True, sort=True)\n",
      "Estimating Shapley Values. Average change of Shapley values in run 3 (15 evaluated permutations): -186.37675512388415%: 100%|██████████| 1/1 [00:00<00:00,  1.76it/s]\n",
      "/home/ubuntu/projects/causality-fbp/.venv/lib/python3.10/site-packages/dowhy/gcm/distribution_change.py:231: FutureWarning: The frame.append method is deprecated and will be removed from pandas in a future version. Use pandas.concat instead.\n",
      "  joint_data = old_data.append(new_data, ignore_index=True, sort=True)\n",
      "Estimating Shapley Values. Average change of Shapley values in run 20 (100 evaluated permutations): -6.852230013530626%: 100%|██████████| 1/1 [00:02<00:00,  2.54s/it]\n",
      "/home/ubuntu/projects/causality-fbp/.venv/lib/python3.10/site-packages/dowhy/gcm/distribution_change.py:231: FutureWarning: The frame.append method is deprecated and will be removed from pandas in a future version. Use pandas.concat instead.\n",
      "  joint_data = old_data.append(new_data, ignore_index=True, sort=True)\n",
      "Estimating Shapley Values. Average change of Shapley values in run 13 (65 evaluated permutations): -12.897150063954005%: 100%|██████████| 1/1 [00:02<00:00,  2.28s/it]\n",
      "/home/ubuntu/projects/causality-fbp/.venv/lib/python3.10/site-packages/dowhy/gcm/distribution_change.py:231: FutureWarning: The frame.append method is deprecated and will be removed from pandas in a future version. Use pandas.concat instead.\n",
      "  joint_data = old_data.append(new_data, ignore_index=True, sort=True)\n",
      "Estimating Shapley Values. Average change of Shapley values in run 17 (85 evaluated permutations): -2.6605745826333114%: 100%|██████████| 1/1 [00:02<00:00,  2.39s/it]\n",
      "/home/ubuntu/projects/causality-fbp/.venv/lib/python3.10/site-packages/dowhy/gcm/distribution_change.py:231: FutureWarning: The frame.append method is deprecated and will be removed from pandas in a future version. Use pandas.concat instead.\n",
      "  joint_data = old_data.append(new_data, ignore_index=True, sort=True)\n",
      "Estimating Shapley Values. Average change of Shapley values in run 9 (45 evaluated permutations): -0.4641721101023825%: 100%|██████████| 1/1 [00:01<00:00,  1.37s/it]\n",
      "/home/ubuntu/projects/causality-fbp/.venv/lib/python3.10/site-packages/dowhy/gcm/distribution_change.py:231: FutureWarning: The frame.append method is deprecated and will be removed from pandas in a future version. Use pandas.concat instead.\n",
      "  joint_data = old_data.append(new_data, ignore_index=True, sort=True)\n",
      "Estimating Shapley Values. Average change of Shapley values in run 7 (35 evaluated permutations): -137.3995546405806%: 100%|██████████| 1/1 [00:01<00:00,  1.15s/it]\n",
      "/home/ubuntu/projects/causality-fbp/.venv/lib/python3.10/site-packages/dowhy/gcm/distribution_change.py:231: FutureWarning: The frame.append method is deprecated and will be removed from pandas in a future version. Use pandas.concat instead.\n",
      "  joint_data = old_data.append(new_data, ignore_index=True, sort=True)\n",
      "Estimating Shapley Values. Average change of Shapley values in run 11 (55 evaluated permutations): -20.662610926580378%: 100%|██████████| 1/1 [00:01<00:00,  1.93s/it]\n",
      "/home/ubuntu/projects/causality-fbp/.venv/lib/python3.10/site-packages/dowhy/gcm/distribution_change.py:231: FutureWarning: The frame.append method is deprecated and will be removed from pandas in a future version. Use pandas.concat instead.\n",
      "  joint_data = old_data.append(new_data, ignore_index=True, sort=True)\n",
      "Estimating Shapley Values. Average change of Shapley values in run 20 (100 evaluated permutations): -4.708168295414052%: 100%|██████████| 1/1 [00:02<00:00,  2.90s/it]\n",
      "/home/ubuntu/projects/causality-fbp/.venv/lib/python3.10/site-packages/dowhy/gcm/distribution_change.py:231: FutureWarning: The frame.append method is deprecated and will be removed from pandas in a future version. Use pandas.concat instead.\n",
      "  joint_data = old_data.append(new_data, ignore_index=True, sort=True)\n",
      "Estimating Shapley Values. Average change of Shapley values in run 4 (20 evaluated permutations): -260.5211430183001%: 100%|██████████| 1/1 [00:00<00:00,  1.28it/s]\n",
      "/home/ubuntu/projects/causality-fbp/.venv/lib/python3.10/site-packages/dowhy/gcm/distribution_change.py:231: FutureWarning: The frame.append method is deprecated and will be removed from pandas in a future version. Use pandas.concat instead.\n",
      "  joint_data = old_data.append(new_data, ignore_index=True, sort=True)\n",
      "Estimating Shapley Values. Average change of Shapley values in run 19 (95 evaluated permutations): -3.3317864106277475%: 100%|██████████| 1/1 [00:02<00:00,  2.20s/it]\n",
      "/home/ubuntu/projects/causality-fbp/.venv/lib/python3.10/site-packages/dowhy/gcm/distribution_change.py:231: FutureWarning: The frame.append method is deprecated and will be removed from pandas in a future version. Use pandas.concat instead.\n",
      "  joint_data = old_data.append(new_data, ignore_index=True, sort=True)\n",
      "Estimating Shapley Values. Average change of Shapley values in run 4 (20 evaluated permutations): -4.792479318717166%: 100%|██████████| 1/1 [00:00<00:00,  1.31it/s]\n",
      "/home/ubuntu/projects/causality-fbp/.venv/lib/python3.10/site-packages/dowhy/gcm/distribution_change.py:231: FutureWarning: The frame.append method is deprecated and will be removed from pandas in a future version. Use pandas.concat instead.\n",
      "  joint_data = old_data.append(new_data, ignore_index=True, sort=True)\n",
      "Estimating Shapley Values. Average change of Shapley values in run 4 (20 evaluated permutations): 0.5574203412321843%: 100%|██████████| 1/1 [00:00<00:00,  1.27it/s]\n",
      "/home/ubuntu/projects/causality-fbp/.venv/lib/python3.10/site-packages/dowhy/gcm/distribution_change.py:231: FutureWarning: The frame.append method is deprecated and will be removed from pandas in a future version. Use pandas.concat instead.\n",
      "  joint_data = old_data.append(new_data, ignore_index=True, sort=True)\n",
      "Estimating Shapley Values. Average change of Shapley values in run 7 (35 evaluated permutations): -38.4527400864315%: 100%|██████████| 1/1 [00:01<00:00,  1.50s/it]\n"
     ]
    }
   ],
   "source": [
    "break_count2_attr_df = compute_attributions('break-count2')"
   ]
  },
  {
   "cell_type": "code",
   "execution_count": 13,
   "metadata": {},
   "outputs": [
    {
     "name": "stdout",
     "output_type": "stream",
     "text": [
      "count1: p-value = 1.0619616037433371e-11\n",
      "gccount1: p-value = 1.2384420439063256e-11\n",
      "gccount2: p-value = 1.2336453705566605e-11\n",
      "atcount1: p-value = 1.2791115248000882e-11\n",
      "atcount2: p-value = 1.2538244341944675e-11\n",
      "gcsum: p-value = 1.1123181288709068e-11\n",
      "atsum: p-value = 1.2883211004826333e-11\n",
      "gcratio: p-value = 1.325817160783885e-11\n"
     ]
    }
   ],
   "source": [
    "for column in nodes:\n",
    "    if column == \"count2\":\n",
    "        continue\n",
    "    \n",
    "    test_result = stats.ttest_ind(break_count2_attr_df[\"count2\"].to_list(),\n",
    "                                  break_count2_attr_df[column].to_list(),\n",
    "                                  equal_var=False)\n",
    "    \n",
    "    print(f\"{column}: p-value = {test_result.pvalue}\")"
   ]
  },
  {
   "cell_type": "code",
   "execution_count": 16,
   "metadata": {},
   "outputs": [
    {
     "data": {
      "image/png": "[encoded data removed]",
      "text/plain": [
       "<Figure size 640x480 with 1 Axes>"
      ]
     },
     "metadata": {},
     "output_type": "display_data"
    }
   ],
   "source": [
    "import math\n",
    "records_count = break_count2_attr_df.shape[0]\n",
    "records_means = break_count2_attr_df.mean(axis=0).to_list()\n",
    "std = break_count2_attr_df.std(axis=0).to_list()\n",
    "columns = break_count2_attr_df.columns.to_list()\n",
    "\n",
    "ci95_lower = []\n",
    "ci95_range = []\n",
    "for m, s in zip(records_means, std):\n",
    "    lower = m - 1.96*s/math.sqrt(records_count)\n",
    "    ci95_lower.append(lower)\n",
    "    ci95_range.append(m - lower)\n",
    "\n",
    "\n",
    "import matplotlib.pyplot as plt\n",
    "\n",
    "plt.barh(range(len(records_means)), records_means, xerr=ci95_range, alpha=0.4, align='center', error_kw={'capsize':2, 'elinewidth':1})\n",
    "plt.yticks(range(len(records_means)), columns)\n",
    "# plt.xscale('log')\n",
    "plt.xlabel('Attribution score')\n",
    "plt.ylabel('Node')\n",
    "plt.yticks(fontsize=9)\n",
    "# plt.xscale('symlog', base=10)\n",
    "# plt.xticks([0, 0.1])\n",
    "plt.axvline(0, color='black', alpha=0.7, linestyle='dotted')\n",
    "plt.title('SciPipe demo - \"count2\" input shift')\n",
    "\n",
    "plt.savefig(\"scipipe-count2.pdf\", bbox_inches='tight')\n",
    "plt.show()"
   ]
  },
  {
   "cell_type": "code",
   "execution_count": null,
   "metadata": {},
   "outputs": [],
   "source": []
  },
  {
   "cell_type": "code",
   "execution_count": null,
   "metadata": {},
   "outputs": [],
   "source": []
  },
  {
   "cell_type": "code",
   "execution_count": null,
   "metadata": {},
   "outputs": [],
   "source": []
  }
 ],
 "metadata": {
  "kernelspec": {
   "display_name": ".venv",
   "language": "python",
   "name": "python3"
  },
  "language_info": {
   "codemirror_mode": {
    "name": "ipython",
    "version": 3
   },
   "file_extension": ".py",
   "mimetype": "text/x-python",
   "name": "python",
   "nbconvert_exporter": "python",
   "pygments_lexer": "ipython3",
   "version": "3.10.6"
  },
  "orig_nbformat": 4,
  "vscode": {
   "interpreter": {
    "hash": "ecc7a9395ecdb678edd0455efe009623dcf141486b8c2498f5ca7d6a6bc128f0"
   }
  }
 },
 "nbformat": 4,
 "nbformat_minor": 2
}
