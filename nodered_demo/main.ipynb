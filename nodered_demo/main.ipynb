{
 "cells": [
  {
   "cell_type": "code",
   "execution_count": 14,
   "metadata": {},
   "outputs": [],
   "source": [
    "import json\n",
    "import pandas as pd\n",
    "\n",
    "import networkx as nx, numpy as np\n",
    "from dowhy import gcm\n",
    "\n",
    "# plus tqdm, typing_extensions, matplotlib"
   ]
  },
  {
   "cell_type": "code",
   "execution_count": 2,
   "metadata": {},
   "outputs": [],
   "source": [
    "import json\n",
    "\n",
    "with open(\"trace.log\", 'r') as trace_file:\n",
    "    trace_lines = trace_file.readlines()\n",
    "\n",
    "\n",
    "trace_data = []\n",
    "for trace_line in trace_lines:\n",
    "    trace = json.loads(trace_line)\n",
    "    trace_data.append(trace)"
   ]
  },
  {
   "cell_type": "code",
   "execution_count": 3,
   "metadata": {},
   "outputs": [
    {
     "name": "stdout",
     "output_type": "stream",
     "text": [
      "23 16\n"
     ]
    }
   ],
   "source": [
    "before = trace_data[:23]\n",
    "after = trace_data[23:]\n",
    "\n",
    "print(len(before), len(after))"
   ]
  },
  {
   "cell_type": "code",
   "execution_count": 4,
   "metadata": {},
   "outputs": [],
   "source": [
    "nodes = [x['node']['id'] for x in trace_data[0][\"profile\"]] + ['totalDuration']"
   ]
  },
  {
   "cell_type": "code",
   "execution_count": 9,
   "metadata": {},
   "outputs": [],
   "source": [
    "before_records = []\n",
    "for trace in before:\n",
    "    profile = trace[\"profile\"]\n",
    "    durations = [x[\"duration\"] for x in profile] + [trace[\"totalDuration\"]]\n",
    "    before_records.append(durations)\n",
    "\n",
    "before_df = pd.DataFrame(before_records, columns=nodes)\n",
    "\n",
    "\n",
    "after_records = []\n",
    "for trace in after:\n",
    "    profile = trace[\"profile\"]\n",
    "    durations = [x[\"duration\"] for x in profile] + [trace[\"totalDuration\"]]\n",
    "    after_records.append(durations)\n",
    "\n",
    "after_df = pd.DataFrame(after_records, columns=nodes)"
   ]
  },
  {
   "cell_type": "code",
   "execution_count": 16,
   "metadata": {},
   "outputs": [
    {
     "data": {
      "text/plain": [
       "[('beff5e93.c3a63', '2f34f44a.aca02c'),\n",
       " ('2f34f44a.aca02c', 'da968efe.e1f1f'),\n",
       " ('da968efe.e1f1f', '2f380911.38291e'),\n",
       " ('2f380911.38291e', 'e3acce5d13799473'),\n",
       " ('e3acce5d13799473', '7db5d25abf49b78e'),\n",
       " ('7db5d25abf49b78e', 'totalDuration')]"
      ]
     },
     "execution_count": 16,
     "metadata": {},
     "output_type": "execute_result"
    }
   ],
   "source": [
    "list()"
   ]
  },
  {
   "cell_type": "code",
   "execution_count": 25,
   "metadata": {},
   "outputs": [],
   "source": [
    "causal_graph = nx.DiGraph(zip(nodes[:-1], nodes[1:]))\n",
    "causal_model = gcm.ProbabilisticCausalModel(causal_graph)\n",
    "causal_model.set_causal_mechanism(nodes[0], gcm.EmpiricalDistribution())\n",
    "for node in nodes[1:-1]:\n",
    "    causal_model.set_causal_mechanism(node, gcm.EmpiricalDistribution())\n",
    "causal_model.set_causal_mechanism(nodes[-1], gcm.AdditiveNoiseModel(gcm.ml.create_linear_regressor()))"
   ]
  },
  {
   "cell_type": "code",
   "execution_count": 26,
   "metadata": {},
   "outputs": [
    {
     "name": "stderr",
     "output_type": "stream",
     "text": [
      "/home/ubuntu/projects/causality_fbp/.venv/lib/python3.8/site-packages/dowhy/gcm/distribution_change.py:231: FutureWarning: The frame.append method is deprecated and will be removed from pandas in a future version. Use pandas.concat instead.\n",
      "  joint_data = old_data.append(new_data, ignore_index=True, sort=True)\n"
     ]
    },
    {
     "ename": "RuntimeError",
     "evalue": "Node 2f34f44a.aca02c has parents and, thus, requires a ConditionalStochasticModel, but a <dowhy.gcm.stochastic_models.EmpiricalDistribution object at 0x7fad4b574100> was found!",
     "output_type": "error",
     "traceback": [
      "\u001b[0;31m---------------------------------------------------------------------------\u001b[0m",
      "\u001b[0;31mRuntimeError\u001b[0m                              Traceback (most recent call last)",
      "Cell \u001b[0;32mIn [26], line 1\u001b[0m\n\u001b[0;32m----> 1\u001b[0m attributions \u001b[39m=\u001b[39m gcm\u001b[39m.\u001b[39;49mdistribution_change(causal_model, before_df, after_df, \u001b[39m'\u001b[39;49m\u001b[39mtotalDuration\u001b[39;49m\u001b[39m'\u001b[39;49m)\n",
      "File \u001b[0;32m~/projects/causality_fbp/.venv/lib/python3.8/site-packages/dowhy/gcm/distribution_change.py:146\u001b[0m, in \u001b[0;36mdistribution_change\u001b[0;34m(causal_model, old_data, new_data, target_node, num_samples, difference_estimation_func, mechanism_change_test_func, mechanism_change_test_significance_level, mechanism_change_test_fdr_control_method, return_additional_info, shapley_config, graph_factory)\u001b[0m\n\u001b[1;32m    143\u001b[0m clone_causal_models(causal_graph_old, causal_graph_new)\n\u001b[1;32m    144\u001b[0m causal_model_new \u001b[39m=\u001b[39m ProbabilisticCausalModel(causal_graph_new)\n\u001b[0;32m--> 146\u001b[0m mechanism_changes \u001b[39m=\u001b[39m _fit_accounting_for_mechanism_change(causal_model_old,\n\u001b[1;32m    147\u001b[0m                                                          causal_model_new,\n\u001b[1;32m    148\u001b[0m                                                          old_data[\u001b[39mlist\u001b[39;49m(causal_graph_old\u001b[39m.\u001b[39;49mnodes)],\n\u001b[1;32m    149\u001b[0m                                                          new_data[\u001b[39mlist\u001b[39;49m(causal_graph_new\u001b[39m.\u001b[39;49mnodes)],\n\u001b[1;32m    150\u001b[0m                                                          mechanism_change_test_func,\n\u001b[1;32m    151\u001b[0m                                                          mechanism_change_test_significance_level,\n\u001b[1;32m    152\u001b[0m                                                          mechanism_change_test_fdr_control_method)\n\u001b[1;32m    154\u001b[0m attributions \u001b[39m=\u001b[39m distribution_change_of_graphs(causal_model_old,\n\u001b[1;32m    155\u001b[0m                                              causal_model_new,\n\u001b[1;32m    156\u001b[0m                                              target_node,\n\u001b[0;32m   (...)\u001b[0m\n\u001b[1;32m    159\u001b[0m                                              shapley_config,\n\u001b[1;32m    160\u001b[0m                                              graph_factory)\n\u001b[1;32m    161\u001b[0m \u001b[39mif\u001b[39;00m return_additional_info:\n",
      "File \u001b[0;32m~/projects/causality_fbp/.venv/lib/python3.8/site-packages/dowhy/gcm/distribution_change.py:238\u001b[0m, in \u001b[0;36m_fit_accounting_for_mechanism_change\u001b[0;34m(causal_model_old, causal_model_new, old_data, new_data, mechanism_change_func, significance_level, fdr_control_method)\u001b[0m\n\u001b[1;32m    236\u001b[0m         fit_causal_model_of_target(causal_model_new, node, new_data)\n\u001b[1;32m    237\u001b[0m     \u001b[39melse\u001b[39;00m:\n\u001b[0;32m--> 238\u001b[0m         fit_causal_model_of_target(causal_model_old, node, joint_data)\n\u001b[1;32m    239\u001b[0m         fit_causal_model_of_target(causal_model_new, node, joint_data)\n\u001b[1;32m    241\u001b[0m \u001b[39mreturn\u001b[39;00m mechanism_changed_for_node\n",
      "File \u001b[0;32m~/projects/causality_fbp/.venv/lib/python3.8/site-packages/dowhy/gcm/fitting_sampling.py:47\u001b[0m, in \u001b[0;36mfit_causal_model_of_target\u001b[0;34m(causal_model, target_node, training_data)\u001b[0m\n\u001b[1;32m     37\u001b[0m \u001b[39mdef\u001b[39;00m \u001b[39mfit_causal_model_of_target\u001b[39m(causal_model: ProbabilisticCausalModel,\n\u001b[1;32m     38\u001b[0m                                target_node: Any,\n\u001b[1;32m     39\u001b[0m                                training_data: pd\u001b[39m.\u001b[39mDataFrame) \u001b[39m-\u001b[39m\u001b[39m>\u001b[39m \u001b[39mNone\u001b[39;00m:\n\u001b[1;32m     40\u001b[0m     \u001b[39m\"\"\"Fits only the causal mechanism of the given target node based on the training data.\u001b[39;00m\n\u001b[1;32m     41\u001b[0m \n\u001b[1;32m     42\u001b[0m \u001b[39m    :param causal_model: The causal model containing the target node.\u001b[39;00m\n\u001b[0;32m   (...)\u001b[0m\n\u001b[1;32m     45\u001b[0m \u001b[39m    :return: None\u001b[39;00m\n\u001b[1;32m     46\u001b[0m \u001b[39m    \"\"\"\u001b[39;00m\n\u001b[0;32m---> 47\u001b[0m     validate_causal_model_assignment(causal_model\u001b[39m.\u001b[39;49mgraph, target_node)\n\u001b[1;32m     49\u001b[0m     \u001b[39mif\u001b[39;00m is_root_node(causal_model\u001b[39m.\u001b[39mgraph, target_node):\n\u001b[1;32m     50\u001b[0m         causal_model\u001b[39m.\u001b[39mcausal_mechanism(target_node)\u001b[39m.\u001b[39mfit(X\u001b[39m=\u001b[39mtraining_data[target_node]\u001b[39m.\u001b[39mto_numpy())\n",
      "File \u001b[0;32m~/projects/causality_fbp/.venv/lib/python3.8/site-packages/dowhy/gcm/graph.py:173\u001b[0m, in \u001b[0;36mvalidate_causal_model_assignment\u001b[0;34m(causal_graph, target_node)\u001b[0m\n\u001b[1;32m    170\u001b[0m         \u001b[39mraise\u001b[39;00m \u001b[39mRuntimeError\u001b[39;00m(\u001b[39m'\u001b[39m\u001b[39mNode \u001b[39m\u001b[39m%s\u001b[39;00m\u001b[39m is a root node and, thus, requires a StochasticModel, \u001b[39m\u001b[39m'\u001b[39m\n\u001b[1;32m    171\u001b[0m                            \u001b[39m'\u001b[39m\u001b[39mbut a \u001b[39m\u001b[39m%s\u001b[39;00m\u001b[39m was found!\u001b[39m\u001b[39m'\u001b[39m \u001b[39m%\u001b[39m (target_node, causal_model))\n\u001b[1;32m    172\u001b[0m \u001b[39melif\u001b[39;00m \u001b[39mnot\u001b[39;00m \u001b[39misinstance\u001b[39m(causal_model, ConditionalStochasticModel):\n\u001b[0;32m--> 173\u001b[0m     \u001b[39mraise\u001b[39;00m \u001b[39mRuntimeError\u001b[39;00m(\u001b[39m'\u001b[39m\u001b[39mNode \u001b[39m\u001b[39m%s\u001b[39;00m\u001b[39m has parents and, thus, requires a ConditionalStochasticModel, \u001b[39m\u001b[39m'\u001b[39m\n\u001b[1;32m    174\u001b[0m                        \u001b[39m'\u001b[39m\u001b[39mbut a \u001b[39m\u001b[39m%s\u001b[39;00m\u001b[39m was found!\u001b[39m\u001b[39m'\u001b[39m \u001b[39m%\u001b[39m (target_node, causal_model))\n",
      "\u001b[0;31mRuntimeError\u001b[0m: Node 2f34f44a.aca02c has parents and, thus, requires a ConditionalStochasticModel, but a <dowhy.gcm.stochastic_models.EmpiricalDistribution object at 0x7fad4b574100> was found!"
     ]
    }
   ],
   "source": [
    "attributions = gcm.distribution_change(causal_model, before_df, after_df, 'totalDuration')"
   ]
  },
  {
   "cell_type": "code",
   "execution_count": 24,
   "metadata": {},
   "outputs": [
    {
     "data": {
      "text/html": [
       "<div>\n",
       "<style scoped>\n",
       "    .dataframe tbody tr th:only-of-type {\n",
       "        vertical-align: middle;\n",
       "    }\n",
       "\n",
       "    .dataframe tbody tr th {\n",
       "        vertical-align: top;\n",
       "    }\n",
       "\n",
       "    .dataframe thead th {\n",
       "        text-align: right;\n",
       "    }\n",
       "</style>\n",
       "<table border=\"1\" class=\"dataframe\">\n",
       "  <thead>\n",
       "    <tr style=\"text-align: right;\">\n",
       "      <th></th>\n",
       "      <th>beff5e93.c3a63</th>\n",
       "      <th>2f34f44a.aca02c</th>\n",
       "      <th>da968efe.e1f1f</th>\n",
       "      <th>2f380911.38291e</th>\n",
       "      <th>e3acce5d13799473</th>\n",
       "      <th>7db5d25abf49b78e</th>\n",
       "      <th>totalDuration</th>\n",
       "    </tr>\n",
       "  </thead>\n",
       "  <tbody>\n",
       "    <tr>\n",
       "      <th>0</th>\n",
       "      <td>0</td>\n",
       "      <td>1</td>\n",
       "      <td>731</td>\n",
       "      <td>986</td>\n",
       "      <td>19</td>\n",
       "      <td>0</td>\n",
       "      <td>1737</td>\n",
       "    </tr>\n",
       "    <tr>\n",
       "      <th>1</th>\n",
       "      <td>0</td>\n",
       "      <td>0</td>\n",
       "      <td>689</td>\n",
       "      <td>629</td>\n",
       "      <td>16</td>\n",
       "      <td>0</td>\n",
       "      <td>1334</td>\n",
       "    </tr>\n",
       "    <tr>\n",
       "      <th>2</th>\n",
       "      <td>0</td>\n",
       "      <td>0</td>\n",
       "      <td>725</td>\n",
       "      <td>667</td>\n",
       "      <td>16</td>\n",
       "      <td>0</td>\n",
       "      <td>1408</td>\n",
       "    </tr>\n",
       "    <tr>\n",
       "      <th>3</th>\n",
       "      <td>0</td>\n",
       "      <td>0</td>\n",
       "      <td>729</td>\n",
       "      <td>663</td>\n",
       "      <td>16</td>\n",
       "      <td>0</td>\n",
       "      <td>1408</td>\n",
       "    </tr>\n",
       "    <tr>\n",
       "      <th>4</th>\n",
       "      <td>0</td>\n",
       "      <td>0</td>\n",
       "      <td>683</td>\n",
       "      <td>588</td>\n",
       "      <td>17</td>\n",
       "      <td>0</td>\n",
       "      <td>1288</td>\n",
       "    </tr>\n",
       "    <tr>\n",
       "      <th>5</th>\n",
       "      <td>0</td>\n",
       "      <td>0</td>\n",
       "      <td>749</td>\n",
       "      <td>980</td>\n",
       "      <td>16</td>\n",
       "      <td>0</td>\n",
       "      <td>1745</td>\n",
       "    </tr>\n",
       "    <tr>\n",
       "      <th>6</th>\n",
       "      <td>0</td>\n",
       "      <td>0</td>\n",
       "      <td>691</td>\n",
       "      <td>649</td>\n",
       "      <td>16</td>\n",
       "      <td>0</td>\n",
       "      <td>1356</td>\n",
       "    </tr>\n",
       "    <tr>\n",
       "      <th>7</th>\n",
       "      <td>0</td>\n",
       "      <td>0</td>\n",
       "      <td>710</td>\n",
       "      <td>1025</td>\n",
       "      <td>24</td>\n",
       "      <td>0</td>\n",
       "      <td>1759</td>\n",
       "    </tr>\n",
       "    <tr>\n",
       "      <th>8</th>\n",
       "      <td>0</td>\n",
       "      <td>0</td>\n",
       "      <td>697</td>\n",
       "      <td>524</td>\n",
       "      <td>16</td>\n",
       "      <td>0</td>\n",
       "      <td>1237</td>\n",
       "    </tr>\n",
       "    <tr>\n",
       "      <th>9</th>\n",
       "      <td>0</td>\n",
       "      <td>0</td>\n",
       "      <td>740</td>\n",
       "      <td>831</td>\n",
       "      <td>18</td>\n",
       "      <td>1</td>\n",
       "      <td>1590</td>\n",
       "    </tr>\n",
       "    <tr>\n",
       "      <th>10</th>\n",
       "      <td>0</td>\n",
       "      <td>0</td>\n",
       "      <td>744</td>\n",
       "      <td>924</td>\n",
       "      <td>18</td>\n",
       "      <td>1</td>\n",
       "      <td>1687</td>\n",
       "    </tr>\n",
       "    <tr>\n",
       "      <th>11</th>\n",
       "      <td>0</td>\n",
       "      <td>0</td>\n",
       "      <td>760</td>\n",
       "      <td>931</td>\n",
       "      <td>16</td>\n",
       "      <td>0</td>\n",
       "      <td>1707</td>\n",
       "    </tr>\n",
       "    <tr>\n",
       "      <th>12</th>\n",
       "      <td>0</td>\n",
       "      <td>0</td>\n",
       "      <td>783</td>\n",
       "      <td>944</td>\n",
       "      <td>17</td>\n",
       "      <td>0</td>\n",
       "      <td>1744</td>\n",
       "    </tr>\n",
       "    <tr>\n",
       "      <th>13</th>\n",
       "      <td>0</td>\n",
       "      <td>0</td>\n",
       "      <td>815</td>\n",
       "      <td>821</td>\n",
       "      <td>16</td>\n",
       "      <td>0</td>\n",
       "      <td>1652</td>\n",
       "    </tr>\n",
       "    <tr>\n",
       "      <th>14</th>\n",
       "      <td>0</td>\n",
       "      <td>0</td>\n",
       "      <td>765</td>\n",
       "      <td>810</td>\n",
       "      <td>16</td>\n",
       "      <td>1</td>\n",
       "      <td>1592</td>\n",
       "    </tr>\n",
       "    <tr>\n",
       "      <th>15</th>\n",
       "      <td>0</td>\n",
       "      <td>0</td>\n",
       "      <td>758</td>\n",
       "      <td>892</td>\n",
       "      <td>17</td>\n",
       "      <td>0</td>\n",
       "      <td>1667</td>\n",
       "    </tr>\n",
       "  </tbody>\n",
       "</table>\n",
       "</div>"
      ],
      "text/plain": [
       "    beff5e93.c3a63  2f34f44a.aca02c  da968efe.e1f1f  2f380911.38291e  \\\n",
       "0                0                1             731              986   \n",
       "1                0                0             689              629   \n",
       "2                0                0             725              667   \n",
       "3                0                0             729              663   \n",
       "4                0                0             683              588   \n",
       "5                0                0             749              980   \n",
       "6                0                0             691              649   \n",
       "7                0                0             710             1025   \n",
       "8                0                0             697              524   \n",
       "9                0                0             740              831   \n",
       "10               0                0             744              924   \n",
       "11               0                0             760              931   \n",
       "12               0                0             783              944   \n",
       "13               0                0             815              821   \n",
       "14               0                0             765              810   \n",
       "15               0                0             758              892   \n",
       "\n",
       "    e3acce5d13799473  7db5d25abf49b78e  totalDuration  \n",
       "0                 19                 0           1737  \n",
       "1                 16                 0           1334  \n",
       "2                 16                 0           1408  \n",
       "3                 16                 0           1408  \n",
       "4                 17                 0           1288  \n",
       "5                 16                 0           1745  \n",
       "6                 16                 0           1356  \n",
       "7                 24                 0           1759  \n",
       "8                 16                 0           1237  \n",
       "9                 18                 1           1590  \n",
       "10                18                 1           1687  \n",
       "11                16                 0           1707  \n",
       "12                17                 0           1744  \n",
       "13                16                 0           1652  \n",
       "14                16                 1           1592  \n",
       "15                17                 0           1667  "
      ]
     },
     "execution_count": 24,
     "metadata": {},
     "output_type": "execute_result"
    }
   ],
   "source": [
    "after_df"
   ]
  },
  {
   "cell_type": "code",
   "execution_count": 22,
   "metadata": {},
   "outputs": [
    {
     "data": {
      "text/plain": [
       "{'2f34f44a.aca02c': 1.7354734661611006e-05,\n",
       " '2f380911.38291e': 0.0004293193403394263,\n",
       " '7db5d25abf49b78e': 8.532526291437765e-05,\n",
       " 'beff5e93.c3a63': 5.900356758159357e-05,\n",
       " 'da968efe.e1f1f': 6.627927290023466e-05,\n",
       " 'e3acce5d13799473': -5.8509436934483134e-05,\n",
       " 'totalDuration': 42.22672457516956}"
      ]
     },
     "execution_count": 22,
     "metadata": {},
     "output_type": "execute_result"
    }
   ],
   "source": [
    "attributions"
   ]
  },
  {
   "cell_type": "code",
   "execution_count": null,
   "metadata": {},
   "outputs": [],
   "source": []
  }
 ],
 "metadata": {
  "kernelspec": {
   "display_name": "Python 3.8.10 ('.venv': venv)",
   "language": "python",
   "name": "python3"
  },
  "language_info": {
   "codemirror_mode": {
    "name": "ipython",
    "version": 3
   },
   "file_extension": ".py",
   "mimetype": "text/x-python",
   "name": "python",
   "nbconvert_exporter": "python",
   "pygments_lexer": "ipython3",
   "version": "3.8.10"
  },
  "orig_nbformat": 4,
  "vscode": {
   "interpreter": {
    "hash": "bf8e8d5d41d69b25d09efe7f4c03e4f37b2c5f1ab647bc05d69a28b7697516b5"
   }
  }
 },
 "nbformat": 4,
 "nbformat_minor": 2
}
